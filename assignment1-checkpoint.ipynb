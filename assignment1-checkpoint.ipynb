{
 "cells": [
  {
   "cell_type": "code",
   "execution_count": 1,
   "id": "3405a375-f047-4d1d-84a1-85af78198cb8",
   "metadata": {},
   "outputs": [
    {
     "name": "stdin",
     "output_type": "stream",
     "text": [
      "Enter the number of days : 5\n"
     ]
    },
    {
     "name": "stdout",
     "output_type": "stream",
     "text": [
      "Total number of year(s): 0\n",
      "Total number of Week(s): 0\n",
      "Total number of Day(s): 5\n"
     ]
    }
   ],
   "source": [
    "num =  int(input(\"Enter the number of days :\"))\n",
    "\n",
    "year = int(num/365)\n",
    "week = int((num%365)/7)\n",
    "days = int((num%365)%7)\n",
    "\n",
    "print(\"Total number of year(s):\" , year)\n",
    "print(\"Total number of Week(s):\" , week)\n",
    "print(\"Total number of Day(s):\" , days)"
   ]
  },
  {
   "cell_type": "code",
   "execution_count": 3,
   "id": "3194c987-2ffd-487e-9627-785671a7b0a6",
   "metadata": {},
   "outputs": [
    {
     "name": "stdin",
     "output_type": "stream",
     "text": [
      "Enter the Basic salary :- 70000\n"
     ]
    },
    {
     "name": "stdout",
     "output_type": "stream",
     "text": [
      "Gross salary of employee is: 157500.0\n"
     ]
    }
   ],
   "source": [
    "basic = float(input(\"Enter the Basic salary :-\"))\n",
    "if basic <= 10000:\n",
    "    da = basic * 0.8\n",
    "    hra = basic * 0.2\n",
    "elif  basic <= 20000:\n",
    "    da = basic * 0.9\n",
    "    hra = basic * 0.3\n",
    "else:\n",
    "    da = basic * 0.95\n",
    "    hra = basic * 0.3\n",
    "gross = basic + da + hra\n",
    "print(\"Gross salary of employee is:\" , gross)"
   ]
  },
  {
   "cell_type": "code",
   "execution_count": 7,
   "id": "86e61b54-8f3a-4082-aecf-bd3a5a043859",
   "metadata": {},
   "outputs": [
    {
     "name": "stdin",
     "output_type": "stream",
     "text": [
      " Enter units:-  70\n"
     ]
    },
    {
     "name": "stdout",
     "output_type": "stream",
     "text": [
      "Units:-  70\n",
      "64.4\n"
     ]
    }
   ],
   "source": [
    "Electric_Units = int(input(\" Enter units:- \"))\n",
    "print(\"Units:- \" , Electric_Units)\n",
    "\n",
    "if Electric_Units <= 50:\n",
    "    T_Bill = Electric_Units * 0.50 + 0.17 * Electric_Units\n",
    "    print(T_Bill)\n",
    "elif Electric_Units <= 150:\n",
    "    T_Bill = Electric_Units * 0.75 + 0.17 * Electric_Units\n",
    "    print(T_Bill)\n",
    "elif Electric_Units <= 250:\n",
    "    T_Bill = Electric_Units * 1.25 + 0.17 * Electric_Units\n",
    "    print(T_Bill)\n",
    "else:\n",
    "    if Electric_Units <= 250:\n",
    "        T_Bill = Electric_Units * 1.50 + 0.17 * Electric_Units\n",
    "        print(T_Bill)"
   ]
  },
  {
   "cell_type": "code",
   "execution_count": 9,
   "id": "3255102d-4a9a-40c3-9b73-519d8db53781",
   "metadata": {},
   "outputs": [
    {
     "name": "stdout",
     "output_type": "stream",
     "text": [
      "\n",
      "1 \n",
      "2 2 \n",
      "3 3 3 \n",
      "4 4 4 4 \n",
      "5 5 5 5 5 \n"
     ]
    }
   ],
   "source": [
    "rows = 6 \n",
    "for i in range(rows):\n",
    "    for j in range(i):\n",
    "        print(i, end = ' ')\n",
    "    print ('')"
   ]
  },
  {
   "cell_type": "code",
   "execution_count": 13,
   "id": "b00d0944-63ee-4727-b204-62dafd7963ed",
   "metadata": {},
   "outputs": [
    {
     "name": "stdin",
     "output_type": "stream",
     "text": [
      "Enter any number :  12543\n"
     ]
    },
    {
     "name": "stdout",
     "output_type": "stream",
     "text": [
      "\n",
      "Product of all digits in 12543 120\n"
     ]
    }
   ],
   "source": [
    "num = int(input(\"Enter any number : \"))\n",
    "temp = num\n",
    "product = 1\n",
    "while(temp != 0):\n",
    "    product = product * (temp % 10)\n",
    "    temp = int(temp / 10)\n",
    "print(\"\\nProduct of all digits in\", num , product)"
   ]
  },
  {
   "cell_type": "code",
   "execution_count": 17,
   "id": "6ad12603-a2bb-440f-b523-65c1135cab4e",
   "metadata": {},
   "outputs": [
    {
     "name": "stdout",
     "output_type": "stream",
     "text": [
      "[45, 67, 12, 'Hello', 23.45, 'World']\n",
      "['Ganesh', 'Saurabh', 'Chaitanya']\n",
      "False\n",
      "['World', 23.45, 'Hello', 12, 67, 45]\n",
      "[45, 67, 12, 23.45, 'World']\n",
      "[45, 67, 12, 23.45, 36, 'World']\n",
      "[45, 67, 12, 23.45, 36, 'World', [34, 'Pune']]\n"
     ]
    },
    {
     "data": {
      "text/plain": [
       "[34, 'Pune']"
      ]
     },
     "execution_count": 17,
     "metadata": {},
     "output_type": "execute_result"
    }
   ],
   "source": [
    "x =  [45, 67, 12, 'Hello', 23.45, 'World']\n",
    "print(x)\n",
    "\n",
    "names = ['Ganesh' , 'Saurabh' , 'Chaitanya']\n",
    "print(names)\n",
    "[n.upper() for n in names]\n",
    "a = 56 in x\n",
    "print(a)\n",
    "rev = x[::-1]\n",
    "print(rev)\n",
    "if 'Hello' in x :\n",
    "     x.remove('Hello')\n",
    "print(x)\n",
    "x. insert(4, 36)\n",
    "print(x)\n",
    "list= x[2:5]\n",
    "x.append([34,'Pune'])\n",
    "print(x)\n",
    "x.pop()"
   ]
  },
  {
   "cell_type": "code",
   "execution_count": 19,
   "id": "b84ce983-a6c5-4ed5-b851-064ef85d3f7d",
   "metadata": {},
   "outputs": [
    {
     "name": "stdout",
     "output_type": "stream",
     "text": [
      "(32.45, 42.67, 26.0, 86.35, 69.07)\n"
     ]
    },
    {
     "ename": "TypeError",
     "evalue": "'list' object is not callable",
     "output_type": "error",
     "traceback": [
      "\u001b[1;31m---------------------------------------------------------------------------\u001b[0m",
      "\u001b[1;31mTypeError\u001b[0m                                 Traceback (most recent call last)",
      "Cell \u001b[1;32mIn[19], line 5\u001b[0m\n\u001b[0;32m      1\u001b[0m t \u001b[38;5;241m=\u001b[39m (\u001b[38;5;241m32.45\u001b[39m,\u001b[38;5;241m42.67\u001b[39m,\u001b[38;5;241m26.00\u001b[39m,\u001b[38;5;241m86.35\u001b[39m,\u001b[38;5;241m69.07\u001b[39m)\n\u001b[0;32m      3\u001b[0m \u001b[38;5;28mprint\u001b[39m(t)\n\u001b[1;32m----> 5\u001b[0m a \u001b[38;5;241m=\u001b[39m \u001b[38;5;28mlist\u001b[39m(t)\n\u001b[0;32m      7\u001b[0m a\u001b[38;5;241m.\u001b[39msort()\n\u001b[0;32m      9\u001b[0m t \u001b[38;5;241m=\u001b[39m \u001b[38;5;28mtuple\u001b[39m(a)\n",
      "\u001b[1;31mTypeError\u001b[0m: 'list' object is not callable"
     ]
    }
   ],
   "source": [
    "t = (32.45,42.67,26.00,86.35,69.07)\n",
    "\n",
    "print(t)\n",
    "\n",
    "a = list(t)\n",
    "\n",
    "a.sort()\n",
    "\n",
    "t = tuple(a)\n",
    "\n",
    "print(t)\n",
    "\n",
    "contains = 50 in a\n",
    "\n",
    "print(contains)\n",
    "\n",
    "a = set(t)\n",
    "\n",
    "a"
   ]
  },
  {
   "cell_type": "code",
   "execution_count": 21,
   "id": "7d677ce4-7e47-4b6e-9043-77c732691f78",
   "metadata": {},
   "outputs": [
    {
     "name": "stdout",
     "output_type": "stream",
     "text": [
      "{'a': 'apple', 'b': 'ball', 'c': 'cat', 'd': 'doll', 'k': 'king'}\n",
      "{'a': 'apple', 'b': 'ball', 'c': 'cat', 'd': 'doll', 'k': 'king', 'z': 'ZEbra'}\n",
      "{'a': 'apple', 'b': 'ball', 'c': 'cat', 'd': 'dog', 'k': 'king', 'z': 'ZEbra'}\n",
      "Length of dictionary 6\n"
     ]
    }
   ],
   "source": [
    "dic= {'a': 'apple', 'b': 'ball', 'c': 'cat', 'd': 'doll', 'k': 'king'}\n",
    "\n",
    "print(dic)\n",
    "\n",
    "dic['k']\n",
    "\n",
    "dic['z']= 'ZEbra'\n",
    "\n",
    "print(dic)\n",
    "\n",
    "dic['d']= 'dog'\n",
    "\n",
    "print(dic)\n",
    "\n",
    "print('Length of dictionary' , len(dic))"
   ]
  },
  {
   "cell_type": "code",
   "execution_count": 23,
   "id": "8f95d69f-d1fb-4f8d-bc82-accfd0b4fad5",
   "metadata": {},
   "outputs": [
    {
     "name": "stdout",
     "output_type": "stream",
     "text": [
      "[10, 20, 4, 45, 99]\n",
      "SECOND LARGEST ELEMENT IN THE LIST IS :\n"
     ]
    },
    {
     "data": {
      "text/plain": [
       "45"
      ]
     },
     "execution_count": 23,
     "metadata": {},
     "output_type": "execute_result"
    }
   ],
   "source": [
    "# 9. Write a program to find the second largest element in a list.\n",
    "\n",
    "list1 = [10 , 20 , 4, 45 , 99]\n",
    "print(list1)\n",
    "list1.sort(reverse = True)\n",
    "print(\"SECOND LARGEST ELEMENT IN THE LIST IS :\")\n",
    "list1[1]"
   ]
  },
  {
   "cell_type": "code",
   "execution_count": 27,
   "id": "b213cf53-be0f-4a8d-840b-3f3a67e16edb",
   "metadata": {},
   "outputs": [
    {
     "name": "stdout",
     "output_type": "stream",
     "text": [
      "['silver', 'gold', 'iron', 'aluminium', 'copper', 'brass', 'bronze']\n",
      "['silver', 'gold', 'iron', 'copper', 'brass', 'bronze']\n"
     ]
    }
   ],
   "source": [
    "metals = ['silver' , 'gold' , 'iron' , 'aluminium' , 'copper' , 'brass' , 'bronze']\n",
    "print(metals)\n",
    "metals1 = [ n for n in metals if n != 'aluminium']\n",
    "print(metals1)"
   ]
  },
  {
   "cell_type": "code",
   "execution_count": null,
   "id": "223e1b86-8cd4-4317-a287-b03795478b56",
   "metadata": {},
   "outputs": [],
   "source": []
  }
 ],
 "metadata": {
  "kernelspec": {
   "display_name": "Python 3 (ipykernel)",
   "language": "python",
   "name": "python3"
  },
  "language_info": {
   "codemirror_mode": {
    "name": "ipython",
    "version": 3
   },
   "file_extension": ".py",
   "mimetype": "text/x-python",
   "name": "python",
   "nbconvert_exporter": "python",
   "pygments_lexer": "ipython3",
   "version": "3.11.7"
  }
 },
 "nbformat": 4,
 "nbformat_minor": 5
}
